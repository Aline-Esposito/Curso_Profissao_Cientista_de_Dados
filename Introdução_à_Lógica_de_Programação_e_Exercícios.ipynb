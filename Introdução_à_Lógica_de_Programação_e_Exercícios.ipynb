{
  "nbformat": 4,
  "nbformat_minor": 0,
  "metadata": {
    "colab": {
      "provenance": []
    },
    "kernelspec": {
      "name": "python3",
      "display_name": "Python 3"
    },
    "language_info": {
      "name": "python"
    }
  },
  "cells": [
    {
      "cell_type": "markdown",
      "source": [
        "# **Conceitos introdutórios e Exercícios iniciais de Python**\n",
        "**Objetivo**\n",
        "\n",
        "Este notebook apresenta explicações básicas de alguns dos conceitos fundamentais em Python, acompanhadas de exercícios introdutórios que cobrem tópicos como variáveis, operadores e lógica condicional. Foi desenvolvido como parte dos meus primeiros estudos na linguagem e tem o objetivo de consolidar o aprendizado.\n",
        "\n",
        "Espero que este material possa ser útil para outros estudantes que também estejam começando a aprender Python e que sirva como um guia prático e didático para revisar conceitos essenciais.\n"
      ],
      "metadata": {
        "id": "1O6hkz1-J51x"
      }
    },
    {
      "cell_type": "markdown",
      "source": [
        "## **Tabela verdade**"
      ],
      "metadata": {
        "id": "KBFbd1N8b_5T"
      }
    },
    {
      "cell_type": "code",
      "source": [
        "# Tabela verdade\n",
        "print(10 > 2 and 4 < 6)  #Utilizando o operador AND, o resultado será \"verdadeiro\" apenas quando ambas as condições forem verdadeiras ao mesmo tempo. Caso qualquer uma das condições seja falsa, o resultado será \"falso\".\n",
        "print(10 > 2 and 4 > 6)\n",
        "print(10 < 2 and 4 < 6)\n",
        "print(10 < 2 and 4 > 6)"
      ],
      "metadata": {
        "colab": {
          "base_uri": "https://localhost:8080/"
        },
        "id": "t1kOMO5FfCXh",
        "outputId": "862bd232-90a1-4a48-835f-da3789b6db22"
      },
      "execution_count": null,
      "outputs": [
        {
          "output_type": "stream",
          "name": "stdout",
          "text": [
            "True\n",
            "False\n",
            "False\n",
            "False\n"
          ]
        }
      ]
    },
    {
      "cell_type": "code",
      "source": [
        "# Tabela verdade\n",
        "print(10 > 2 or 4 < 6) #Utilizando o operador OR, o resultado será \"verdadeiro\" se pelo menos uma das condições for verdadeira. O resultado será \"falso\" apenas quando todas as condições forem falsas.\n",
        "print(10 > 2 or 4 > 6)\n",
        "print(10 < 2 or 4 < 6)\n",
        "print(10 < 2 or 4 > 6)"
      ],
      "metadata": {
        "colab": {
          "base_uri": "https://localhost:8080/"
        },
        "id": "erNM3Qc9iiQG",
        "outputId": "c746f45a-16d7-4936-c552-f393fb8bc710"
      },
      "execution_count": null,
      "outputs": [
        {
          "output_type": "stream",
          "name": "stdout",
          "text": [
            "True\n",
            "True\n",
            "True\n",
            "False\n"
          ]
        }
      ]
    },
    {
      "cell_type": "code",
      "source": [
        "# Tabela verdade\n",
        "print(not 10 > 2) #O operador NOT inverte o valor lógico de uma afirmação. Ou seja, uma condição verdadeira se torna falsa, e uma condição falsa se torna verdadeira.\n",
        "print(not 10 < 2)"
      ],
      "metadata": {
        "colab": {
          "base_uri": "https://localhost:8080/"
        },
        "id": "zQPRL9eujAvv",
        "outputId": "6d183518-ccce-4307-b9b3-69c38ac7a45e"
      },
      "execution_count": null,
      "outputs": [
        {
          "output_type": "stream",
          "name": "stdout",
          "text": [
            "False\n",
            "True\n"
          ]
        }
      ]
    },
    {
      "cell_type": "markdown",
      "source": [
        "## **Visualização de varízavéis e textos**\n",
        "\n",
        "\n",
        "\n"
      ],
      "metadata": {
        "id": "hTHeBwfgtkWS"
      }
    },
    {
      "cell_type": "code",
      "source": [
        "print('Conhecendo a função print')\n",
        "x = 8\n",
        "print(x)"
      ],
      "metadata": {
        "id": "1e_mnoGlt0iE",
        "colab": {
          "base_uri": "https://localhost:8080/"
        },
        "outputId": "10b9909c-89f1-40f6-95eb-3ccc20469751"
      },
      "execution_count": null,
      "outputs": [
        {
          "output_type": "stream",
          "name": "stdout",
          "text": [
            "Conhecendo a função print\n",
            "8\n"
          ]
        }
      ]
    },
    {
      "cell_type": "code",
      "source": [
        "y = 10\n",
        "soma = x + y\n",
        "print(soma)"
      ],
      "metadata": {
        "colab": {
          "base_uri": "https://localhost:8080/"
        },
        "id": "aBhO_79-u5Wa",
        "outputId": "370abe18-4bf2-4ab9-bef4-36bd6eb94cad"
      },
      "execution_count": null,
      "outputs": [
        {
          "output_type": "stream",
          "name": "stdout",
          "text": [
            "18\n"
          ]
        }
      ]
    },
    {
      "cell_type": "code",
      "source": [
        "nome = 'ALINE'\n",
        "print(nome)"
      ],
      "metadata": {
        "colab": {
          "base_uri": "https://localhost:8080/"
        },
        "id": "qOYewhNBvM9q",
        "outputId": "0bde5183-ae28-4ae3-9cdc-628bdd303146"
      },
      "execution_count": null,
      "outputs": [
        {
          "output_type": "stream",
          "name": "stdout",
          "text": [
            "ALINE\n"
          ]
        }
      ]
    },
    {
      "cell_type": "code",
      "source": [
        "# Concatenação\n",
        "x = 27\n",
        "print (\"O valor de\", x, 'é igual a minha idade')\n"
      ],
      "metadata": {
        "id": "9up6EQnrudnw"
      },
      "execution_count": null,
      "outputs": []
    },
    {
      "cell_type": "code",
      "source": [
        "x = 2\n",
        "print(x, 'é o valor da idade do meu sobrinho', x * 2, 'é o dobro da idade dele')"
      ],
      "metadata": {
        "colab": {
          "base_uri": "https://localhost:8080/"
        },
        "id": "5nOvNwkbxHrX",
        "outputId": "9aef1541-de3a-45d9-e332-a6e51b168993"
      },
      "execution_count": null,
      "outputs": [
        {
          "output_type": "stream",
          "name": "stdout",
          "text": [
            "2 é o valor da idade do meu sobrinho 4 é o dobro da idade dele\n"
          ]
        }
      ]
    },
    {
      "cell_type": "code",
      "source": [
        "y = 20; z = 30 - y\n",
        "print( 'valor da varíaveis', y, 'e' , z)"
      ],
      "metadata": {
        "colab": {
          "base_uri": "https://localhost:8080/"
        },
        "id": "aAJFKcDbx254",
        "outputId": "2418122c-9ad1-406b-d161-03e0a183cde6"
      },
      "execution_count": null,
      "outputs": [
        {
          "output_type": "stream",
          "name": "stdout",
          "text": [
            "valor da varíaveis 20 e 10\n"
          ]
        }
      ]
    },
    {
      "cell_type": "markdown",
      "source": [
        "# **Type**"
      ],
      "metadata": {
        "id": "KGqJKxsSzg12"
      }
    },
    {
      "cell_type": "code",
      "source": [
        "x = 10\n",
        "print(type(x))\n",
        "\n",
        "nome = 'aline'\n",
        "print(type(nome))\n",
        "\n",
        "y = '10.0'\n",
        "print(type(y))\n",
        "num_convert = float(y)\n",
        "print(type(num_convert))\n",
        "print (y)"
      ],
      "metadata": {
        "colab": {
          "base_uri": "https://localhost:8080/"
        },
        "id": "2wi8yhBJznLc",
        "outputId": "0e9fe6b0-8872-48f7-efda-3e4230944744"
      },
      "execution_count": null,
      "outputs": [
        {
          "output_type": "stream",
          "name": "stdout",
          "text": [
            "<class 'int'>\n",
            "<class 'str'>\n",
            "<class 'str'>\n",
            "<class 'float'>\n",
            "10.0\n"
          ]
        }
      ]
    },
    {
      "cell_type": "markdown",
      "source": [
        "# **Input**\n",
        "\n",
        "* Armazenar a informação digitada pelo usuário em uma variavél\n",
        "* O dado armazenado sempre será um texto"
      ],
      "metadata": {
        "id": "cHKxdh1s-lmg"
      }
    },
    {
      "cell_type": "code",
      "source": [
        "idade = input ('Sua idade:' ) # o comando input é utilizado para ler dados fornecidos pelo usuário durante a execução do programa\n",
        "print(idade)\n"
      ],
      "metadata": {
        "colab": {
          "base_uri": "https://localhost:8080/"
        },
        "id": "W-LXXkXi_ON_",
        "outputId": "6d639f63-f507-4328-e2d7-f14f7e4ac4a8"
      },
      "execution_count": null,
      "outputs": [
        {
          "output_type": "stream",
          "name": "stdout",
          "text": [
            "Sua idade:27\n",
            "27\n"
          ]
        }
      ]
    },
    {
      "cell_type": "code",
      "source": [
        "valor = float(input('Digite o valor do produto: '))  # Converter a entrada para um número\n",
        "desconto = valor * 0.10  # Calcular o desconto\n",
        "print('O valor do desconto é:', (desconto))  # Exibir o valor do desconto\n",
        "\n"
      ],
      "metadata": {
        "colab": {
          "base_uri": "https://localhost:8080/"
        },
        "id": "7BE3BvwiDDHG",
        "outputId": "c0f01c5b-3596-4840-8f0e-238e3221b4ba"
      },
      "execution_count": null,
      "outputs": [
        {
          "output_type": "stream",
          "name": "stdout",
          "text": [
            "Digite o valor do produto: 5\n",
            "O valor do desconto é: 0.5\n"
          ]
        }
      ]
    },
    {
      "cell_type": "markdown",
      "source": [
        "## **Condicional**\n",
        "\n",
        "\n"
      ],
      "metadata": {
        "id": "WAN2dHxSKPl7"
      }
    },
    {
      "cell_type": "code",
      "source": [
        "# if / else\n",
        "\n",
        "num1 = 5\n",
        "num2 = 10\n",
        "if num1 > num2:\n",
        " print(' o primeiro numero é o maior')\n",
        "\n",
        "else:\n",
        " print('o segundo numero é o maior')\n"
      ],
      "metadata": {
        "colab": {
          "base_uri": "https://localhost:8080/"
        },
        "id": "MeH6qIw7KUAX",
        "outputId": "9f8dc3fa-3771-4f06-8f6d-0f48f49d2c2f"
      },
      "execution_count": null,
      "outputs": [
        {
          "output_type": "stream",
          "name": "stdout",
          "text": [
            "o segundo numero é o maior\n"
          ]
        }
      ]
    },
    {
      "cell_type": "code",
      "source": [
        "# if / elif / else\n",
        "\n",
        "num1 = 5\n",
        "num2 = 5\n",
        "if num1 > num2:\n",
        " print(' o primeiro numero é o maior')\n",
        "\n",
        "elif num1 < num2:\n",
        " print('o segundo numero é o maior')\n",
        "\n",
        "else:\n",
        " print('os numeros são iguais')\n",
        "\n"
      ],
      "metadata": {
        "id": "OfoQu4idVWQl"
      },
      "execution_count": null,
      "outputs": []
    },
    {
      "cell_type": "markdown",
      "source": [
        "**Condicional com operadores lógicos**"
      ],
      "metadata": {
        "id": "QfH0UdhDWDQr"
      }
    },
    {
      "cell_type": "code",
      "source": [
        "num1 = 9\n",
        "num2 = 3\n",
        "num3 = 6\n",
        "if num1 > num3 and num1 > num2:\n",
        "  print (\"o maior numero é o num1\")\n",
        "else:\n",
        "  print ( \"o maior numero pode ser o 3 ou o 2\")"
      ],
      "metadata": {
        "colab": {
          "base_uri": "https://localhost:8080/"
        },
        "id": "VPkwamvsWMcs",
        "outputId": "5ec37280-8af5-49a3-ff70-6380b6f555c5"
      },
      "execution_count": null,
      "outputs": [
        {
          "output_type": "stream",
          "name": "stdout",
          "text": [
            "o maior numero é o num1\n"
          ]
        }
      ]
    },
    {
      "cell_type": "markdown",
      "source": [
        "## **Listas, tuplas e dicionários**"
      ],
      "metadata": {
        "id": "5r3l2tGDCpBh"
      }
    },
    {
      "cell_type": "code",
      "source": [
        "# Lista\n",
        "lista = [1, 2, 3, 4, 5] # é possivél adicionar elemenstos append para adicionar e remove para retirar um elemento\n",
        "print(lista)\n",
        "lista.append(6)\n",
        "print(lista)\n",
        "print(lista[0])\n",
        "lista.remove(2)\n",
        "print(lista)\n"
      ],
      "metadata": {
        "colab": {
          "base_uri": "https://localhost:8080/"
        },
        "id": "mXCNQZqGD1hk",
        "outputId": "ffa867c8-536f-4062-edd6-d6210b343ab5"
      },
      "execution_count": null,
      "outputs": [
        {
          "output_type": "stream",
          "name": "stdout",
          "text": [
            "[1, 2, 3, 4, 5]\n",
            "[1, 2, 3, 4, 5, 6]\n",
            "1\n",
            "[1, 3, 4, 5, 6]\n"
          ]
        }
      ]
    },
    {
      "cell_type": "code",
      "source": [
        "# Tuplas\n",
        "\n",
        "tupla = (1, 2, 3, 4, 5) # não pode ser modificada\n",
        "print(tupla)\n",
        "print(tupla[0])\n",
        "\n"
      ],
      "metadata": {
        "colab": {
          "base_uri": "https://localhost:8080/"
        },
        "id": "JNBUoeDTEaKv",
        "outputId": "c8f4b671-a667-43f2-f987-c707ba0597ba"
      },
      "execution_count": null,
      "outputs": [
        {
          "output_type": "stream",
          "name": "stdout",
          "text": [
            "(1, 2, 3, 4, 5)\n",
            "1\n"
          ]
        }
      ]
    },
    {
      "cell_type": "code",
      "source": [
        "# Dicíonarios\n",
        "dicionario = {'nome': 'Aline', 'cidade': 'Tupã'} # diferentemente da lista você pode inserir diretamente a chave (índice)\n",
        "print(dicionario['nome'])\n",
        "dicionario['idade'] = 27 # para adicionar um elemento no dicionarío\n",
        "print(dicionario['idade'])\n",
        "\n"
      ],
      "metadata": {
        "colab": {
          "base_uri": "https://localhost:8080/"
        },
        "id": "rp6ZVc8uFgsv",
        "outputId": "f2a32eca-c82c-4df0-921e-8845f25a1c29"
      },
      "execution_count": null,
      "outputs": [
        {
          "output_type": "stream",
          "name": "stdout",
          "text": [
            "Aline\n",
            "27\n"
          ]
        }
      ]
    },
    {
      "cell_type": "markdown",
      "source": [
        "## **Estruturas de repetição**"
      ],
      "metadata": {
        "id": "xjFSQDsJXbeF"
      }
    },
    {
      "cell_type": "code",
      "source": [
        "# For\n",
        "for teste in range(5): # Comando 'range' faz uma sequência numérica. Note que a contagem vai de 0 a 4, por que o Python usa um sistema de indexação baseado em zero\n",
        "  print(teste)"
      ],
      "metadata": {
        "id": "DfHvIKuKXeTm"
      },
      "execution_count": null,
      "outputs": []
    },
    {
      "cell_type": "code",
      "source": [
        "# For Range + Break\n",
        "for teste in range(50):\n",
        "  print(teste)\n",
        "  if teste == 10:\n",
        "    break"
      ],
      "metadata": {
        "id": "sHWlrRa5Zsk3"
      },
      "execution_count": null,
      "outputs": []
    },
    {
      "cell_type": "code",
      "source": [
        "# For simples\n",
        "lista = [1, 2, 3, 4, 5]\n",
        "for val in lista:\n",
        "  print(val)"
      ],
      "metadata": {
        "id": "1_f2AF3Wa0AP",
        "colab": {
          "base_uri": "https://localhost:8080/"
        },
        "outputId": "037ef99f-6e05-4db8-ba36-7c4d8fb6df49"
      },
      "execution_count": null,
      "outputs": [
        {
          "output_type": "stream",
          "name": "stdout",
          "text": [
            "1\n",
            "2\n",
            "3\n",
            "4\n",
            "5\n"
          ]
        }
      ]
    },
    {
      "cell_type": "code",
      "source": [
        "# For + enumerate\n",
        "lista = [1, 2, 3, 4, 5]\n",
        "for i, valor in enumerate(lista):\n",
        "  print(i, valor)"
      ],
      "metadata": {
        "id": "_b-4SJ86blA8",
        "colab": {
          "base_uri": "https://localhost:8080/"
        },
        "outputId": "5fa30387-8f17-4b66-cb9c-923c4cbee0f4"
      },
      "execution_count": null,
      "outputs": [
        {
          "output_type": "stream",
          "name": "stdout",
          "text": [
            "0 1\n",
            "1 2\n",
            "2 3\n",
            "3 4\n",
            "4 5\n"
          ]
        }
      ]
    },
    {
      "cell_type": "code",
      "source": [
        "# For com operadores compostos\n",
        "lista = [1, 2, 3]\n",
        "for val in lista:\n",
        "  val += 2\n",
        "  print(val)\n"
      ],
      "metadata": {
        "colab": {
          "base_uri": "https://localhost:8080/"
        },
        "id": "66btBfs1eyWE",
        "outputId": "b0b1a51b-ef75-4528-b458-a8b893f03737"
      },
      "execution_count": null,
      "outputs": [
        {
          "output_type": "stream",
          "name": "stdout",
          "text": [
            "3\n",
            "4\n",
            "5\n"
          ]
        }
      ]
    },
    {
      "cell_type": "code",
      "source": [
        "# While\n",
        "n = 10 #Executa os comando enquanto uma condição for verdadeira\n",
        "while n > 0:\n",
        "  n -=1\n",
        "  print(n)\n"
      ],
      "metadata": {
        "id": "-zhjOUUmjyfR"
      },
      "execution_count": null,
      "outputs": []
    },
    {
      "cell_type": "code",
      "source": [
        "# While e else\n",
        "n = -2\n",
        "while n > 0:\n",
        "  n -= 1\n",
        "  print (n)\n",
        "\n",
        "else:\n",
        "  print( 'n < 0')"
      ],
      "metadata": {
        "colab": {
          "base_uri": "https://localhost:8080/"
        },
        "id": "FJ-nRcXykdGb",
        "outputId": "5cec43d5-3d57-4b5a-ac2a-4a9aaae03a8b"
      },
      "execution_count": null,
      "outputs": [
        {
          "output_type": "stream",
          "name": "stdout",
          "text": [
            "n < 0\n"
          ]
        }
      ]
    },
    {
      "cell_type": "markdown",
      "source": [
        "# **Exercícios**\n",
        "\n",
        "1. Tabela Verdade: Implemente os seguintes testes lógicos e explique os resultados:\n",
        "\n",
        "print(15 > 5 and 7 < 10)\n",
        "print(15 < 5 or 7 > 10)\n",
        "print(not 15 > 5)"
      ],
      "metadata": {
        "id": "qMuWqygc1Vp0"
      }
    },
    {
      "cell_type": "code",
      "source": [
        "print(15 > 5 and 7 < 10) # \"verdadeira\" pois com o and a afirmação é verdadeira somente quando as duas afirmações são verdades\n",
        "print( 15 < 5 or 7 > 10) # 'falso' já que ambas as afirmações são falsas\n",
        "print(not 15 > 5) # como o not inverte o resultado então nesse caso será falso"
      ],
      "metadata": {
        "colab": {
          "base_uri": "https://localhost:8080/"
        },
        "id": "CzO-X-uH16Cl",
        "outputId": "aa5b0555-863a-475c-ba5b-52dbf243c77d"
      },
      "execution_count": null,
      "outputs": [
        {
          "output_type": "stream",
          "name": "stdout",
          "text": [
            "True\n",
            "False\n",
            "False\n"
          ]
        }
      ]
    },
    {
      "cell_type": "markdown",
      "source": [
        "2. Função print e variáveis\n",
        "\n",
        "* Crie uma variável chamada idade e atribua sua idade a ela. Exiba a frase: \"Minha idade é [idade].\"\n",
        "\n",
        "* Declare duas variáveis a e b, atribua valores e mostre a soma delas com uma mensagem."
      ],
      "metadata": {
        "id": "9tmEl2RA29s9"
      }
    },
    {
      "cell_type": "code",
      "source": [
        "indade = 27\n",
        "print ('Minha idade é', indade)"
      ],
      "metadata": {
        "colab": {
          "base_uri": "https://localhost:8080/"
        },
        "id": "H5qGA4iY3JQ7",
        "outputId": "af25a24f-6f71-4383-a9b5-4c7a5086bd5c"
      },
      "execution_count": null,
      "outputs": [
        {
          "output_type": "stream",
          "name": "stdout",
          "text": [
            "Minha idade é 27\n"
          ]
        }
      ]
    },
    {
      "cell_type": "code",
      "source": [
        "a = 30; b = 20\n",
        "print( \" A soma de a + b é\" , a + b)\n"
      ],
      "metadata": {
        "colab": {
          "base_uri": "https://localhost:8080/"
        },
        "id": "Bs0V2alq3nUz",
        "outputId": "b37edc8e-0ceb-4eae-aacf-bb6dbb17fe0e"
      },
      "execution_count": null,
      "outputs": [
        {
          "output_type": "stream",
          "name": "stdout",
          "text": [
            " A soma de a + b é 50\n"
          ]
        }
      ]
    },
    {
      "cell_type": "markdown",
      "source": [
        "3. Concatenando Strings\n",
        "* Crie um programa que solicite o nome e a idade do usuário, e mostre: \"Olá [nome], você tem [idade] anos.\""
      ],
      "metadata": {
        "id": "VVTtvos74OV9"
      }
    },
    {
      "cell_type": "code",
      "source": [
        "\n",
        "idade = input('Digite dua idade:')\n",
        "nome = input('Digite seu nome:')\n",
        "print('Olá', nome, 'você tem', idade, 'anos')"
      ],
      "metadata": {
        "colab": {
          "base_uri": "https://localhost:8080/"
        },
        "id": "9Ll97l8_4SjU",
        "outputId": "9584ab73-06a1-4721-b873-f9e90324f1ac"
      },
      "execution_count": null,
      "outputs": [
        {
          "output_type": "stream",
          "name": "stdout",
          "text": [
            "Digite dua idade:27\n",
            "Digite seu nome:Aline\n",
            "Olá Aline você tem 27 anos\n"
          ]
        }
      ]
    },
    {
      "cell_type": "markdown",
      "source": [
        "4. Tipos de Dados\n",
        "\n",
        "* Declare variáveis de tipos diferentes e use a função type para identificar os tipos.\n",
        "Converta a string \"20.5\" para ponto flutuante e exiba o tipo após a conversão."
      ],
      "metadata": {
        "id": "D04duJ-z5wfs"
      }
    },
    {
      "cell_type": "code",
      "source": [
        "idade = 27\n",
        "num_convert = int(idade)\n",
        "print(type(idade))\n",
        "\n",
        "ponto = 20.5\n",
        "num_convert = float(ponto)\n",
        "print(type(ponto))\n"
      ],
      "metadata": {
        "colab": {
          "base_uri": "https://localhost:8080/"
        },
        "id": "XXxzYtU08EEo",
        "outputId": "e05abc3b-e61b-484d-8d83-a0fe2dc443ce"
      },
      "execution_count": null,
      "outputs": [
        {
          "output_type": "stream",
          "name": "stdout",
          "text": [
            "<class 'int'>\n",
            "<class 'float'>\n"
          ]
        }
      ]
    },
    {
      "cell_type": "markdown",
      "source": [
        "5. Entrada de Dados com input\n",
        "\n",
        "* Solicite ao usuário que insira sua idade e exiba a mensagem: \"Você informou que tem [idade] anos.\"\n",
        "* Peça o preço de um produto, calcule e exiba um desconto de 15%."
      ],
      "metadata": {
        "id": "-BEZ6UB79IuQ"
      }
    },
    {
      "cell_type": "code",
      "source": [
        "idade = input('Digite sua idade:')\n",
        "print ('Você informou que tem' , idade, 'anos')"
      ],
      "metadata": {
        "colab": {
          "base_uri": "https://localhost:8080/"
        },
        "id": "2iW7yKtjARV6",
        "outputId": "f081f251-41b6-4294-86bb-bb2172768e17"
      },
      "execution_count": null,
      "outputs": [
        {
          "output_type": "stream",
          "name": "stdout",
          "text": [
            "Digite sua idade:27\n",
            "Você informou que tem 27 anos\n"
          ]
        }
      ]
    },
    {
      "cell_type": "code",
      "source": [
        "preço = 50\n",
        "desconto = preço - preço* 0.15\n",
        "print('O valor do produto é' , preço, 'mas com o desconto fica' , desconto)"
      ],
      "metadata": {
        "colab": {
          "base_uri": "https://localhost:8080/"
        },
        "id": "qlQCjZKmAvVv",
        "outputId": "7f0572cf-1da8-4704-ba75-f5da0dc99878"
      },
      "execution_count": null,
      "outputs": [
        {
          "output_type": "stream",
          "name": "stdout",
          "text": [
            "O valor do produto é 50 mas com o desconto fica 42.5\n"
          ]
        }
      ]
    },
    {
      "cell_type": "markdown",
      "source": [
        "6. Condicional Simples\n",
        "\n",
        "* Compare dois números fornecidos pelo usuário e exiba qual é o maior, ou se são iguais."
      ],
      "metadata": {
        "id": "gLvPsF88GCXU"
      }
    },
    {
      "cell_type": "code",
      "source": [
        "num1 = input('Digite o primeiro numero')\n",
        "num2 = input('Digite o segundo numero')\n",
        "if num1 > num2:\n",
        "  print('O primeiro numero é o maior')\n",
        "elif num1 < num2:\n",
        "    print('O segundo numero é o maior')\n",
        "else:\n",
        "      print('Os numeros são iguais')"
      ],
      "metadata": {
        "colab": {
          "base_uri": "https://localhost:8080/"
        },
        "id": "MjujpOeAGUKe",
        "outputId": "35df90b3-cbe4-450d-bf5f-8a5c90b4f48b"
      },
      "execution_count": null,
      "outputs": [
        {
          "output_type": "stream",
          "name": "stdout",
          "text": [
            "Digite o primeiro numero1\n",
            "Digite o segundo numero2\n",
            "O segundo numero é o maior\n"
          ]
        }
      ]
    },
    {
      "cell_type": "markdown",
      "source": [
        "7. Condicional com Operadores Lógicos\n",
        "* Peça ao usuário três números e identifique o maior deles usando operadores lógicos."
      ],
      "metadata": {
        "id": "SpGdF1x0Qvpk"
      }
    },
    {
      "cell_type": "markdown",
      "source": [],
      "metadata": {
        "id": "V8CX00bdSUMP"
      }
    },
    {
      "cell_type": "code",
      "source": [
        "num1 = input('Digite o pimeiro numero')\n",
        "num2 = input('Digite o segundo numero')\n",
        "num3 = input('Digite o terceiro numero')\n",
        "if num1 > num2 and num1 > num3:\n",
        "  print(\"O numero 1 é o maior\")\n",
        "elif num2 > num1 and num2 > num3:\n",
        "  print('O numero 2 é o maior')\n",
        "else:\n",
        "  print(\"O numero 3 é o maior\")"
      ],
      "metadata": {
        "colab": {
          "base_uri": "https://localhost:8080/"
        },
        "id": "zixsZVkiQ5dq",
        "outputId": "a4f7a952-4175-46c5-bca9-6759efa7ccf3"
      },
      "execution_count": null,
      "outputs": [
        {
          "output_type": "stream",
          "name": "stdout",
          "text": [
            "Digite o pimeiro numero4\n",
            "Digite o segundo numero5\n",
            "Digite o terceiro numero6\n",
            "O numero 3 é o maior\n"
          ]
        }
      ]
    },
    {
      "cell_type": "code",
      "source": [],
      "metadata": {
        "id": "42RtVEHlzaqE"
      },
      "execution_count": null,
      "outputs": []
    }
  ]
}