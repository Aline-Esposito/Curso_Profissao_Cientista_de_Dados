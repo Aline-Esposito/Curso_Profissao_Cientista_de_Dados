{
  "nbformat": 4,
  "nbformat_minor": 0,
  "metadata": {
    "colab": {
      "provenance": []
    },
    "kernelspec": {
      "name": "python3",
      "display_name": "Python 3"
    },
    "language_info": {
      "name": "python"
    }
  },
  "cells": [
    {
      "cell_type": "markdown",
      "source": [
        "# Calculadora para uma loja de roupas"
      ],
      "metadata": {
        "id": "o3Nq1gRlbTWA"
      }
    },
    {
      "cell_type": "code",
      "source": [
        "print('Escolha uma opção:')\n",
        "print('1: Somar o valor da compra da cliente')\n",
        "print('2: Calcular o desconto que o cliente ganhou')\n",
        "\n",
        "opcao = input('Digite a opção desejada: ')\n",
        "\n",
        "if opcao == '1':\n",
        "  num_valores = int(input('Numero de peças que o cliente comprou: '))\n",
        "  valores = []\n",
        "  for i in range(num_valores):\n",
        "    valor = float(input(f'Digite o preço {i+1}:'))\n",
        "    valores.append(valor)\n",
        "  soma = sum(valores)\n",
        "  print(f'O valor total da compra é de R${soma:}')\n",
        "\n",
        "elif opcao == '2':\n",
        "\n",
        "  n_pecas = int(input('Quantas peças o cliente comprou? '))\n",
        "  valor_compra = float(input('Qual o valor da compra?'))\n",
        "\n",
        "  if n_pecas <= 1 or valor_compra <= 100:\n",
        "    desconto = valor_compra - valor_compra  * 0.05\n",
        "    print ('Esse cliente teve um desconto de 5%, total a pagar = R$', desconto)\n",
        "\n",
        "  elif n_pecas > 1 and n_pecas <= 5 or valor_compra > 100 and valor_compra <= 200:\n",
        "    desconto = valor_compra - valor_compra  * 0.10\n",
        "    print ('Esse cliente teve um desconto de 10%, total a pagar = R$', desconto)\n",
        "\n",
        "  else:\n",
        "    desconto = valor_compra - valor_compra  * 0.15\n",
        "    print ('Esse cliente teve um desconto de 15%, total a pagar = R$', desconto)\n",
        "\n",
        "\n",
        "\n"
      ],
      "metadata": {
        "colab": {
          "base_uri": "https://localhost:8080/"
        },
        "id": "ZUQkb2kgcHwG",
        "outputId": "810aceb0-7c75-4e40-ff19-e49ee4cdf2e9"
      },
      "execution_count": 8,
      "outputs": [
        {
          "output_type": "stream",
          "name": "stdout",
          "text": [
            "Escolha uma opção:\n",
            "1: Somar o valor da compra da cliente\n",
            "2: Calcular o desconto que o cliente ganhou\n",
            "Digite a opção desejada: 1\n",
            "Numero de peças que o cliente comprou: 1\n",
            "Digite o preço 1:50.00\n",
            "O valor total da compra é de R$50.00\n"
          ]
        }
      ]
    }
  ]
}